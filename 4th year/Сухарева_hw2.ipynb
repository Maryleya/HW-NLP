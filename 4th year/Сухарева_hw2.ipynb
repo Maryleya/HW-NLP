{
  "nbformat": 4,
  "nbformat_minor": 0,
  "metadata": {
    "colab": {
      "provenance": []
    },
    "kernelspec": {
      "name": "python3",
      "display_name": "Python 3"
    },
    "language_info": {
      "name": "python"
    },
    "widgets": {
      "application/vnd.jupyter.widget-state+json": {
        "5e9c37ed062d491889f0e26a3264a4fb": {
          "model_module": "@jupyter-widgets/controls",
          "model_name": "HBoxModel",
          "model_module_version": "1.5.0",
          "state": {
            "_dom_classes": [],
            "_model_module": "@jupyter-widgets/controls",
            "_model_module_version": "1.5.0",
            "_model_name": "HBoxModel",
            "_view_count": null,
            "_view_module": "@jupyter-widgets/controls",
            "_view_module_version": "1.5.0",
            "_view_name": "HBoxView",
            "box_style": "",
            "children": [
              "IPY_MODEL_e416109ced1c4c33b6d5be2a9cc7064e",
              "IPY_MODEL_3521a2ade2024045ba59a620b55c24d4",
              "IPY_MODEL_ee4f37f1b9f844bdaae4643a047a4cb3"
            ],
            "layout": "IPY_MODEL_a9c07ddf3977491193fc5508c959a74a"
          }
        },
        "e416109ced1c4c33b6d5be2a9cc7064e": {
          "model_module": "@jupyter-widgets/controls",
          "model_name": "HTMLModel",
          "model_module_version": "1.5.0",
          "state": {
            "_dom_classes": [],
            "_model_module": "@jupyter-widgets/controls",
            "_model_module_version": "1.5.0",
            "_model_name": "HTMLModel",
            "_view_count": null,
            "_view_module": "@jupyter-widgets/controls",
            "_view_module_version": "1.5.0",
            "_view_name": "HTMLView",
            "description": "",
            "description_tooltip": null,
            "layout": "IPY_MODEL_51ca6b3a0700424a950e030695438a89",
            "placeholder": "​",
            "style": "IPY_MODEL_a5f949d8661840d5bd5c04267a2894a7",
            "value": "Downloading builder script: 100%"
          }
        },
        "3521a2ade2024045ba59a620b55c24d4": {
          "model_module": "@jupyter-widgets/controls",
          "model_name": "FloatProgressModel",
          "model_module_version": "1.5.0",
          "state": {
            "_dom_classes": [],
            "_model_module": "@jupyter-widgets/controls",
            "_model_module_version": "1.5.0",
            "_model_name": "FloatProgressModel",
            "_view_count": null,
            "_view_module": "@jupyter-widgets/controls",
            "_view_module_version": "1.5.0",
            "_view_name": "ProgressView",
            "bar_style": "success",
            "description": "",
            "description_tooltip": null,
            "layout": "IPY_MODEL_bb888093b6b04054a42641bc7661f1b4",
            "max": 4485,
            "min": 0,
            "orientation": "horizontal",
            "style": "IPY_MODEL_3cc5c114946049779ef44e92c2c83655",
            "value": 4485
          }
        },
        "ee4f37f1b9f844bdaae4643a047a4cb3": {
          "model_module": "@jupyter-widgets/controls",
          "model_name": "HTMLModel",
          "model_module_version": "1.5.0",
          "state": {
            "_dom_classes": [],
            "_model_module": "@jupyter-widgets/controls",
            "_model_module_version": "1.5.0",
            "_model_name": "HTMLModel",
            "_view_count": null,
            "_view_module": "@jupyter-widgets/controls",
            "_view_module_version": "1.5.0",
            "_view_name": "HTMLView",
            "description": "",
            "description_tooltip": null,
            "layout": "IPY_MODEL_e369b8cff2524687b70a5cf48831c6a6",
            "placeholder": "​",
            "style": "IPY_MODEL_39a89304bdec4cb4b83caa47bd0dbf34",
            "value": " 4.49k/4.49k [00:00&lt;00:00, 241kB/s]"
          }
        },
        "a9c07ddf3977491193fc5508c959a74a": {
          "model_module": "@jupyter-widgets/base",
          "model_name": "LayoutModel",
          "model_module_version": "1.2.0",
          "state": {
            "_model_module": "@jupyter-widgets/base",
            "_model_module_version": "1.2.0",
            "_model_name": "LayoutModel",
            "_view_count": null,
            "_view_module": "@jupyter-widgets/base",
            "_view_module_version": "1.2.0",
            "_view_name": "LayoutView",
            "align_content": null,
            "align_items": null,
            "align_self": null,
            "border": null,
            "bottom": null,
            "display": null,
            "flex": null,
            "flex_flow": null,
            "grid_area": null,
            "grid_auto_columns": null,
            "grid_auto_flow": null,
            "grid_auto_rows": null,
            "grid_column": null,
            "grid_gap": null,
            "grid_row": null,
            "grid_template_areas": null,
            "grid_template_columns": null,
            "grid_template_rows": null,
            "height": null,
            "justify_content": null,
            "justify_items": null,
            "left": null,
            "margin": null,
            "max_height": null,
            "max_width": null,
            "min_height": null,
            "min_width": null,
            "object_fit": null,
            "object_position": null,
            "order": null,
            "overflow": null,
            "overflow_x": null,
            "overflow_y": null,
            "padding": null,
            "right": null,
            "top": null,
            "visibility": null,
            "width": null
          }
        },
        "51ca6b3a0700424a950e030695438a89": {
          "model_module": "@jupyter-widgets/base",
          "model_name": "LayoutModel",
          "model_module_version": "1.2.0",
          "state": {
            "_model_module": "@jupyter-widgets/base",
            "_model_module_version": "1.2.0",
            "_model_name": "LayoutModel",
            "_view_count": null,
            "_view_module": "@jupyter-widgets/base",
            "_view_module_version": "1.2.0",
            "_view_name": "LayoutView",
            "align_content": null,
            "align_items": null,
            "align_self": null,
            "border": null,
            "bottom": null,
            "display": null,
            "flex": null,
            "flex_flow": null,
            "grid_area": null,
            "grid_auto_columns": null,
            "grid_auto_flow": null,
            "grid_auto_rows": null,
            "grid_column": null,
            "grid_gap": null,
            "grid_row": null,
            "grid_template_areas": null,
            "grid_template_columns": null,
            "grid_template_rows": null,
            "height": null,
            "justify_content": null,
            "justify_items": null,
            "left": null,
            "margin": null,
            "max_height": null,
            "max_width": null,
            "min_height": null,
            "min_width": null,
            "object_fit": null,
            "object_position": null,
            "order": null,
            "overflow": null,
            "overflow_x": null,
            "overflow_y": null,
            "padding": null,
            "right": null,
            "top": null,
            "visibility": null,
            "width": null
          }
        },
        "a5f949d8661840d5bd5c04267a2894a7": {
          "model_module": "@jupyter-widgets/controls",
          "model_name": "DescriptionStyleModel",
          "model_module_version": "1.5.0",
          "state": {
            "_model_module": "@jupyter-widgets/controls",
            "_model_module_version": "1.5.0",
            "_model_name": "DescriptionStyleModel",
            "_view_count": null,
            "_view_module": "@jupyter-widgets/base",
            "_view_module_version": "1.2.0",
            "_view_name": "StyleView",
            "description_width": ""
          }
        },
        "bb888093b6b04054a42641bc7661f1b4": {
          "model_module": "@jupyter-widgets/base",
          "model_name": "LayoutModel",
          "model_module_version": "1.2.0",
          "state": {
            "_model_module": "@jupyter-widgets/base",
            "_model_module_version": "1.2.0",
            "_model_name": "LayoutModel",
            "_view_count": null,
            "_view_module": "@jupyter-widgets/base",
            "_view_module_version": "1.2.0",
            "_view_name": "LayoutView",
            "align_content": null,
            "align_items": null,
            "align_self": null,
            "border": null,
            "bottom": null,
            "display": null,
            "flex": null,
            "flex_flow": null,
            "grid_area": null,
            "grid_auto_columns": null,
            "grid_auto_flow": null,
            "grid_auto_rows": null,
            "grid_column": null,
            "grid_gap": null,
            "grid_row": null,
            "grid_template_areas": null,
            "grid_template_columns": null,
            "grid_template_rows": null,
            "height": null,
            "justify_content": null,
            "justify_items": null,
            "left": null,
            "margin": null,
            "max_height": null,
            "max_width": null,
            "min_height": null,
            "min_width": null,
            "object_fit": null,
            "object_position": null,
            "order": null,
            "overflow": null,
            "overflow_x": null,
            "overflow_y": null,
            "padding": null,
            "right": null,
            "top": null,
            "visibility": null,
            "width": null
          }
        },
        "3cc5c114946049779ef44e92c2c83655": {
          "model_module": "@jupyter-widgets/controls",
          "model_name": "ProgressStyleModel",
          "model_module_version": "1.5.0",
          "state": {
            "_model_module": "@jupyter-widgets/controls",
            "_model_module_version": "1.5.0",
            "_model_name": "ProgressStyleModel",
            "_view_count": null,
            "_view_module": "@jupyter-widgets/base",
            "_view_module_version": "1.2.0",
            "_view_name": "StyleView",
            "bar_color": null,
            "description_width": ""
          }
        },
        "e369b8cff2524687b70a5cf48831c6a6": {
          "model_module": "@jupyter-widgets/base",
          "model_name": "LayoutModel",
          "model_module_version": "1.2.0",
          "state": {
            "_model_module": "@jupyter-widgets/base",
            "_model_module_version": "1.2.0",
            "_model_name": "LayoutModel",
            "_view_count": null,
            "_view_module": "@jupyter-widgets/base",
            "_view_module_version": "1.2.0",
            "_view_name": "LayoutView",
            "align_content": null,
            "align_items": null,
            "align_self": null,
            "border": null,
            "bottom": null,
            "display": null,
            "flex": null,
            "flex_flow": null,
            "grid_area": null,
            "grid_auto_columns": null,
            "grid_auto_flow": null,
            "grid_auto_rows": null,
            "grid_column": null,
            "grid_gap": null,
            "grid_row": null,
            "grid_template_areas": null,
            "grid_template_columns": null,
            "grid_template_rows": null,
            "height": null,
            "justify_content": null,
            "justify_items": null,
            "left": null,
            "margin": null,
            "max_height": null,
            "max_width": null,
            "min_height": null,
            "min_width": null,
            "object_fit": null,
            "object_position": null,
            "order": null,
            "overflow": null,
            "overflow_x": null,
            "overflow_y": null,
            "padding": null,
            "right": null,
            "top": null,
            "visibility": null,
            "width": null
          }
        },
        "39a89304bdec4cb4b83caa47bd0dbf34": {
          "model_module": "@jupyter-widgets/controls",
          "model_name": "DescriptionStyleModel",
          "model_module_version": "1.5.0",
          "state": {
            "_model_module": "@jupyter-widgets/controls",
            "_model_module_version": "1.5.0",
            "_model_name": "DescriptionStyleModel",
            "_view_count": null,
            "_view_module": "@jupyter-widgets/base",
            "_view_module_version": "1.2.0",
            "_view_name": "StyleView",
            "description_width": ""
          }
        }
      }
    }
  },
  "cells": [
    {
      "cell_type": "markdown",
      "source": [
        "### Loads"
      ],
      "metadata": {
        "id": "3CGwwWMV5oJl"
      }
    },
    {
      "cell_type": "code",
      "source": [
        "!pip install yt-dlp\n",
        "!pip install webvtt-py"
      ],
      "metadata": {
        "id": "ZPKmRpp8U8tR"
      },
      "execution_count": null,
      "outputs": []
    },
    {
      "cell_type": "code",
      "source": [
        "!pip install SpeechRecognition\n",
        "!pip install git+https://github.com/openai/whisper.git soundfile"
      ],
      "metadata": {
        "id": "St05gTUk6Ihp"
      },
      "execution_count": null,
      "outputs": []
    },
    {
      "cell_type": "code",
      "source": [
        "!pip install transformers datasets evaluate jiwer"
      ],
      "metadata": {
        "id": "CtxoW4N57XEO"
      },
      "execution_count": null,
      "outputs": []
    },
    {
      "cell_type": "code",
      "source": [
        "import webvtt\n",
        "\n",
        "import speech_recognition as sr\n",
        "\n",
        "from transformers import pipeline\n",
        "\n",
        "import evaluate"
      ],
      "metadata": {
        "id": "ibe6dbkQ50hl"
      },
      "execution_count": 4,
      "outputs": []
    },
    {
      "cell_type": "markdown",
      "source": [
        "Я долго не могла выбрать видео, в итоге я взяла 2 коротких, чтобы все модели сработали.\n",
        "\n",
        "Первое видео -- это просто отрывок-скетч, это более интересный вариант. Тут говорит один человек, но как два разных персонажа, единственная проблема -- в конце много раз подряд произносится \"ow\", я не знала, как это стоит оценивать, потому что не все модели вообще распознают такие звуки. Но в итоге я решила сделать, как модель от OpenAI -- оставить эти звуки.\n",
        "\n",
        "Второе видео -- это рассказ про обновление в игре с закадровым голосом, оно более скучное, так как здесь все четко произносится, поэтому у одной из моделей вообще получилось идеально распознать."
      ],
      "metadata": {
        "id": "Rh_kq6-ewx73"
      }
    },
    {
      "cell_type": "markdown",
      "source": [
        "## Video"
      ],
      "metadata": {
        "id": "ZSJ_O6LZ5wRr"
      }
    },
    {
      "cell_type": "code",
      "source": [
        "!yt-dlp -f ba --extract-audio --audio-format wav --write-auto-subs https://www.youtube.com/watch?v=EAfp8ZxQGpU #https://www.youtube.com/watch?v=0Cbw1b2mkGk"
      ],
      "metadata": {
        "colab": {
          "base_uri": "https://localhost:8080/"
        },
        "id": "3ojC3sreVHn9",
        "outputId": "92cda917-c25d-45d8-c282-fa19391f48da"
      },
      "execution_count": 26,
      "outputs": [
        {
          "output_type": "stream",
          "name": "stdout",
          "text": [
            "[youtube] Extracting URL: https://www.youtube.com/watch?v=0Cbw1b2mkGk#https://www.youtube.com/watch?v=EAfp8ZxQGpU\n",
            "[youtube] 0Cbw1b2mkGk: Downloading webpage\n",
            "[youtube] 0Cbw1b2mkGk: Downloading ios player API JSON\n",
            "[youtube] 0Cbw1b2mkGk: Downloading android player API JSON\n",
            "[youtube] 0Cbw1b2mkGk: Downloading m3u8 information\n",
            "[info] 0Cbw1b2mkGk: Downloading subtitles: en\n",
            "[info] 0Cbw1b2mkGk: Downloading 1 format(s): 251\n",
            "[info] Writing video subtitles to: Minecraft 1.21： The breeze [0Cbw1b2mkGk].en.vtt\n",
            "[download] Destination: Minecraft 1.21： The breeze [0Cbw1b2mkGk].en.vtt\n",
            "\u001b[K[download] 100% of    8.52KiB in \u001b[1;37m00:00:00\u001b[0m at \u001b[0;32m313.99KiB/s\u001b[0m\n",
            "[download] Destination: Minecraft 1.21： The breeze [0Cbw1b2mkGk].webm\n",
            "\u001b[K[download] 100% of    1.23MiB in \u001b[1;37m00:00:00\u001b[0m at \u001b[0;32m11.34MiB/s\u001b[0m\n",
            "[ExtractAudio] Destination: Minecraft 1.21： The breeze [0Cbw1b2mkGk].wav\n",
            "Deleting original file Minecraft 1.21： The breeze [0Cbw1b2mkGk].webm (pass -k to keep)\n"
          ]
        }
      ]
    },
    {
      "cell_type": "code",
      "source": [
        "subtitles_raw = []\n",
        "\n",
        "for caption in webvtt.read(\"my favorite drew gooden clip [EAfp8ZxQGpU].en.vtt\"): #\"Minecraft 1.21： The breeze [0Cbw1b2mkGk].en.vtt\"\n",
        "    subtitles_raw.append(caption.text)"
      ],
      "metadata": {
        "id": "326Z6cGIZdao"
      },
      "execution_count": 54,
      "outputs": []
    },
    {
      "cell_type": "code",
      "source": [
        "subtitles = []\n",
        "for line in subtitles_raw:\n",
        "    new_line = line.replace(' \\n', '')\n",
        "    new_line = new_line.replace('\\n ', '')\n",
        "    new_line = new_line.replace('\\n', ' ')\n",
        "\n",
        "    if new_line == ' ':\n",
        "        continue\n",
        "    else:\n",
        "        subtitles.append(new_line)"
      ],
      "metadata": {
        "id": "vZgyjM10eYTn"
      },
      "execution_count": 55,
      "outputs": []
    },
    {
      "cell_type": "code",
      "source": [
        "subtitles[:20] # они не в особо удобном формате, я пробовала их почистить, но это вроде бы не нужно по заданию, так что я не стала особо этим заниматься"
      ],
      "metadata": {
        "colab": {
          "base_uri": "https://localhost:8080/"
        },
        "id": "q60GPp0VGO_j",
        "outputId": "da5dcb55-4296-4def-9253-18946d80b8fd"
      },
      "execution_count": 56,
      "outputs": [
        {
          "output_type": "execute_result",
          "data": {
            "text/plain": [
              "['definitely curious to try this out my',\n",
              " 'definitely curious to try this out my',\n",
              " \"definitely curious to try this out my only reservation is i don't know if\",\n",
              " \"only reservation is i don't know if\",\n",
              " \"only reservation is i don't know if we're allowed to install this on our\",\n",
              " \"we're allowed to install this on our\",\n",
              " \"we're allowed to install this on our toilets i'm gonna have to ask my\",\n",
              " \"toilets i'm gonna have to ask my\",\n",
              " \"toilets i'm gonna have to ask my landlord about it what's up\",\n",
              " \"landlord about it what's up\",\n",
              " \"landlord about it what's up were you just standing outside the door\",\n",
              " 'were you just standing outside the door',\n",
              " 'were you just standing outside the door waiting for someone to mention you by',\n",
              " 'waiting for someone to mention you by',\n",
              " 'waiting for someone to mention you by name no i came here to tell you your',\n",
              " 'name no i came here to tell you your',\n",
              " 'name no i came here to tell you your dishwasher is broken well then fix it',\n",
              " 'dishwasher is broken well then fix it',\n",
              " 'dishwasher is broken well then fix it that is not my job that literally is',\n",
              " 'that is not my job that literally is']"
            ]
          },
          "metadata": {},
          "execution_count": 56
        }
      ]
    },
    {
      "cell_type": "markdown",
      "source": [
        "## SpeechRecognition"
      ],
      "metadata": {
        "id": "6LfZbf4C6ESM"
      }
    },
    {
      "cell_type": "code",
      "source": [
        "r = sr.Recognizer()\n",
        "with sr.AudioFile(\"my favorite drew gooden clip [EAfp8ZxQGpU].wav\") as source: #\"Minecraft 1.21： The breeze [0Cbw1b2mkGk].wav\"\n",
        "    audio = r.record(source)"
      ],
      "metadata": {
        "id": "njGIw60DbZ4o"
      },
      "execution_count": 58,
      "outputs": []
    },
    {
      "cell_type": "code",
      "source": [
        "# OpenAI Whisper library\n",
        "openai = r.recognize_whisper(audio)"
      ],
      "metadata": {
        "id": "nBiY4HUa6nj7"
      },
      "execution_count": 59,
      "outputs": []
    },
    {
      "cell_type": "code",
      "source": [
        "openai"
      ],
      "metadata": {
        "colab": {
          "base_uri": "https://localhost:8080/",
          "height": 88
        },
        "id": "PhKM6eTB7mNp",
        "outputId": "3432b120-f3da-4ba2-81ae-31d344c87b79"
      },
      "execution_count": 60,
      "outputs": [
        {
          "output_type": "execute_result",
          "data": {
            "text/plain": [
              "\" I'm definitely curious to try this out. My only reservation is I don't know if we're allowed to install this on our toilets. I'm gonna have to ask my landlord about it. What's up? Were you just standing outside the door waiting for someone to mention you by name? No. I came here to tell you your dishwasher's broken. Well then fix it. That is not my job. That literally is your job. Also do you think my name is landlord? Yes. Landlord is not my name. It's my profession. My name is Ninja. My parents named me after the Fortnite streamer. How old are you? I gotta go. Oh man, this staircase is steep. Whoah. Ow. Ow. Ow. Ow. Ow. Ow. Oh. Oh. I'm okay. You know, I'm five days into this and I.\""
            ],
            "application/vnd.google.colaboratory.intrinsic+json": {
              "type": "string"
            }
          },
          "metadata": {},
          "execution_count": 60
        }
      ]
    },
    {
      "cell_type": "code",
      "source": [
        "# Google Cloud Speech (with default key)\n",
        "google = r.recognize_google(audio) # needs to be less than ~15 MB!!"
      ],
      "metadata": {
        "id": "BuEfFQsn7B10"
      },
      "execution_count": 61,
      "outputs": []
    },
    {
      "cell_type": "code",
      "source": [
        "google"
      ],
      "metadata": {
        "colab": {
          "base_uri": "https://localhost:8080/",
          "height": 88
        },
        "id": "ChGZQDGX7o5D",
        "outputId": "80242207-07e5-444a-bbce-8428ed79537a"
      },
      "execution_count": 62,
      "outputs": [
        {
          "output_type": "execute_result",
          "data": {
            "text/plain": [
              "\"definitely curious to try this out my only reservation is I don't know if we're allowed to install this on our toilets I'm going to have to ask my landlord about it what's up were you just standing outside the door waiting for someone to mention you by name no I came here to tell you your dishwasher is broken well then fix it that is not my job that literally is your job also do you think my name is landlord landlord is not my name it's my professional my name is ninja my parents named me after the fortnite streamer how old are you I got to go this staircase is Steve you know\""
            ],
            "application/vnd.google.colaboratory.intrinsic+json": {
              "type": "string"
            }
          },
          "metadata": {},
          "execution_count": 62
        }
      ]
    },
    {
      "cell_type": "markdown",
      "source": [
        "## HuggingFace transformers"
      ],
      "metadata": {
        "id": "YfEY6JB97Rr1"
      }
    },
    {
      "cell_type": "code",
      "source": [
        "transcriber = pipeline(\"automatic-speech-recognition\", \"facebook/wav2vec2-base-960h\")\n",
        "transformer = transcriber(\"my favorite drew gooden clip [EAfp8ZxQGpU].wav\") # less than ~15 MB!! #\"Minecraft 1.21： The breeze [0Cbw1b2mkGk].wav\""
      ],
      "metadata": {
        "colab": {
          "base_uri": "https://localhost:8080/"
        },
        "id": "tNTBL_Gj7T6o",
        "outputId": "c73ef960-008d-45c0-b0be-1198965d96ab"
      },
      "execution_count": 63,
      "outputs": [
        {
          "output_type": "stream",
          "name": "stderr",
          "text": [
            "Some weights of the model checkpoint at facebook/wav2vec2-base-960h were not used when initializing Wav2Vec2ForCTC: ['wav2vec2.encoder.pos_conv_embed.conv.weight_g', 'wav2vec2.encoder.pos_conv_embed.conv.weight_v']\n",
            "- This IS expected if you are initializing Wav2Vec2ForCTC from the checkpoint of a model trained on another task or with another architecture (e.g. initializing a BertForSequenceClassification model from a BertForPreTraining model).\n",
            "- This IS NOT expected if you are initializing Wav2Vec2ForCTC from the checkpoint of a model that you expect to be exactly identical (initializing a BertForSequenceClassification model from a BertForSequenceClassification model).\n",
            "Some weights of Wav2Vec2ForCTC were not initialized from the model checkpoint at facebook/wav2vec2-base-960h and are newly initialized: ['wav2vec2.encoder.pos_conv_embed.conv.parametrizations.weight.original0', 'wav2vec2.masked_spec_embed', 'wav2vec2.encoder.pos_conv_embed.conv.parametrizations.weight.original1']\n",
            "You should probably TRAIN this model on a down-stream task to be able to use it for predictions and inference.\n"
          ]
        }
      ]
    },
    {
      "cell_type": "code",
      "source": [
        "transformer"
      ],
      "metadata": {
        "colab": {
          "base_uri": "https://localhost:8080/"
        },
        "id": "jOlRNOYh7sJR",
        "outputId": "d0e17ea7-3a8e-4f9d-cae1-3d2348c39741"
      },
      "execution_count": 64,
      "outputs": [
        {
          "output_type": "execute_result",
          "data": {
            "text/plain": [
              "{'text': \"EVELY CURIOUS TO TRY THIS OUT MY ONLY RESERVATION IS I DON'T KNOW IF WE'RE ALLOWED TO INSTALL THIS ON OUR TOILETS I'M GOING TO HAVE TO ASK MY LANDLORD ABOUT IT WHAT'S A WERE YOU JUST STANDING OUTSIDE THE DOOR WAITING FOR SOMEONE TO MENTION YOU BY NAME NO I CAME HERE TO TELL YOU YOUR DISHWATCHWARS BROKEN WOLVIN FIXET THAT IS NOT MY JA THAT LITERALLY IS YOUR JIAL SO DO YOU THINK MY NAME IS LANDLORD YES LANDLORD IS NOT MY NAME IT'S MY PROFESSION MY NAME IS NINJA MY PARENTS NAMEMIN AFTER THE FORTNIGHTS  HOW OLD ARE YOU AY A MA MISTERCASES SE WHO HOW OW OW HOW HOW HOW HW  YOU KNOW O FIVE DAYS IN ITUS IN A\"}"
            ]
          },
          "metadata": {},
          "execution_count": 64
        }
      ]
    },
    {
      "cell_type": "markdown",
      "source": [
        "## WER Video 1"
      ],
      "metadata": {
        "id": "Iav9ePhVy87-"
      }
    },
    {
      "cell_type": "code",
      "source": [
        "wer = evaluate.load(\"wer\")"
      ],
      "metadata": {
        "colab": {
          "base_uri": "https://localhost:8080/",
          "height": 49,
          "referenced_widgets": [
            "5e9c37ed062d491889f0e26a3264a4fb",
            "e416109ced1c4c33b6d5be2a9cc7064e",
            "3521a2ade2024045ba59a620b55c24d4",
            "ee4f37f1b9f844bdaae4643a047a4cb3",
            "a9c07ddf3977491193fc5508c959a74a",
            "51ca6b3a0700424a950e030695438a89",
            "a5f949d8661840d5bd5c04267a2894a7",
            "bb888093b6b04054a42641bc7661f1b4",
            "3cc5c114946049779ef44e92c2c83655",
            "e369b8cff2524687b70a5cf48831c6a6",
            "39a89304bdec4cb4b83caa47bd0dbf34"
          ]
        },
        "id": "AJBDLm2cznsT",
        "outputId": "169f4512-5dce-4802-831f-44c17a7c22d2"
      },
      "execution_count": 21,
      "outputs": [
        {
          "output_type": "display_data",
          "data": {
            "text/plain": [
              "Downloading builder script:   0%|          | 0.00/4.49k [00:00<?, ?B/s]"
            ],
            "application/vnd.jupyter.widget-view+json": {
              "version_major": 2,
              "version_minor": 0,
              "model_id": "5e9c37ed062d491889f0e26a3264a4fb"
            }
          },
          "metadata": {}
        }
      ]
    },
    {
      "cell_type": "code",
      "source": [
        "references_1 = \"Definitely curious to try this out. My only reservation is i don't know if we're allowed to install this on our toilets. I'm gonna have to ask my landlord about it. What's up? Were you just standing outside the door, waiting for someone to mention you by name? No. I came here to tell you your dishwasher is broken. Well then fix it. That is not my job. That literally is your job. Also do you think my name is landlord? Yes. Landlord is not my name it's my profession. My name is ninja. My parents named me after the fortnight streamer. How old are you? Uh i gotta go. Oh man this staircase is steep. Whoah. Ow. Ow. Ow. Ow. Ow. Ow. Oh. Oh. I'm okay. You know i'm five days into this and I.\""
      ],
      "metadata": {
        "id": "gRcRoBK9zAGR"
      },
      "execution_count": 65,
      "outputs": []
    },
    {
      "cell_type": "code",
      "source": [
        "elements = [',', '.', '?', '!'] # я убираю пунктуацию, потому что не все модели ее используют, за исключением апострофа, так как все модели различают it's и its, например (можно увидеть на примере второго видео)\n",
        "for element in elements:\n",
        "    references_1 = references_1.replace(element, '').lower()\n",
        "references_1"
      ],
      "metadata": {
        "colab": {
          "base_uri": "https://localhost:8080/",
          "height": 88
        },
        "id": "eGp9Z74TzXkk",
        "outputId": "83d59528-759b-4b2c-dbc1-700affb65977"
      },
      "execution_count": 66,
      "outputs": [
        {
          "output_type": "execute_result",
          "data": {
            "text/plain": [
              "\"definitely curious to try this out my only reservation is i don't know if we're allowed to install this on our toilets i'm gonna have to ask my landlord about it what's up were you just standing outside the door waiting for someone to mention you by name no i came here to tell you your dishwasher is broken well then fix it that is not my job that literally is your job also do you think my name is landlord yes landlord is not my name it's my profession my name is ninja my parents named me after the fortnight streamer how old are you uh i gotta go oh man this staircase is steep whoah ow ow ow ow ow ow oh oh i'm okay you know i'm five days into this and i\""
            ],
            "application/vnd.google.colaboratory.intrinsic+json": {
              "type": "string"
            }
          },
          "metadata": {},
          "execution_count": 66
        }
      ]
    },
    {
      "cell_type": "code",
      "source": [
        "for element in elements:\n",
        "    openai = openai.replace(element, '').lower()\n",
        "openai"
      ],
      "metadata": {
        "colab": {
          "base_uri": "https://localhost:8080/",
          "height": 88
        },
        "id": "1oKCPqBPzbDi",
        "outputId": "5cbf0f08-557e-4a42-a1e6-b0efc686cca7"
      },
      "execution_count": 67,
      "outputs": [
        {
          "output_type": "execute_result",
          "data": {
            "text/plain": [
              "\" i'm definitely curious to try this out my only reservation is i don't know if we're allowed to install this on our toilets i'm gonna have to ask my landlord about it what's up were you just standing outside the door waiting for someone to mention you by name no i came here to tell you your dishwasher's broken well then fix it that is not my job that literally is your job also do you think my name is landlord yes landlord is not my name it's my profession my name is ninja my parents named me after the fortnite streamer how old are you i gotta go oh man this staircase is steep whoah ow ow ow ow ow ow oh oh i'm okay you know i'm five days into this and i\""
            ],
            "application/vnd.google.colaboratory.intrinsic+json": {
              "type": "string"
            }
          },
          "metadata": {},
          "execution_count": 67
        }
      ]
    },
    {
      "cell_type": "code",
      "source": [
        "for element in elements:\n",
        "    google = google.replace(element, '').lower()\n",
        "google"
      ],
      "metadata": {
        "colab": {
          "base_uri": "https://localhost:8080/",
          "height": 88
        },
        "id": "WArp_2fuzdH-",
        "outputId": "ab9465a3-6b9f-4f48-f8f2-6274f1dd51b7"
      },
      "execution_count": 68,
      "outputs": [
        {
          "output_type": "execute_result",
          "data": {
            "text/plain": [
              "\"definitely curious to try this out my only reservation is i don't know if we're allowed to install this on our toilets i'm going to have to ask my landlord about it what's up were you just standing outside the door waiting for someone to mention you by name no i came here to tell you your dishwasher is broken well then fix it that is not my job that literally is your job also do you think my name is landlord landlord is not my name it's my professional my name is ninja my parents named me after the fortnite streamer how old are you i got to go this staircase is steve you know\""
            ],
            "application/vnd.google.colaboratory.intrinsic+json": {
              "type": "string"
            }
          },
          "metadata": {},
          "execution_count": 68
        }
      ]
    },
    {
      "cell_type": "code",
      "source": [
        "transformer = transformer['text']\n",
        "for element in elements:\n",
        "    transformer = transformer.replace(element, '').lower()\n",
        "transformer"
      ],
      "metadata": {
        "colab": {
          "base_uri": "https://localhost:8080/",
          "height": 88
        },
        "id": "pZ72XEypze0M",
        "outputId": "850497e4-e93b-4323-9aed-a9c90d1cb07d"
      },
      "execution_count": 69,
      "outputs": [
        {
          "output_type": "execute_result",
          "data": {
            "text/plain": [
              "\"evely curious to try this out my only reservation is i don't know if we're allowed to install this on our toilets i'm going to have to ask my landlord about it what's a were you just standing outside the door waiting for someone to mention you by name no i came here to tell you your dishwatchwars broken wolvin fixet that is not my ja that literally is your jial so do you think my name is landlord yes landlord is not my name it's my profession my name is ninja my parents namemin after the fortnights  how old are you ay a ma mistercases se who how ow ow how how how hw  you know o five days in itus in a\""
            ],
            "application/vnd.google.colaboratory.intrinsic+json": {
              "type": "string"
            }
          },
          "metadata": {},
          "execution_count": 69
        }
      ]
    },
    {
      "cell_type": "code",
      "source": [
        "wer_openai = wer.compute(predictions=[openai], references=[references_1])\n",
        "wer_openai"
      ],
      "metadata": {
        "colab": {
          "base_uri": "https://localhost:8080/"
        },
        "id": "tQGqHwvAzlPh",
        "outputId": "9af54b0c-6cc8-46e1-fc7b-e96e430c91d7"
      },
      "execution_count": 70,
      "outputs": [
        {
          "output_type": "execute_result",
          "data": {
            "text/plain": [
              "0.03676470588235294"
            ]
          },
          "metadata": {},
          "execution_count": 70
        }
      ]
    },
    {
      "cell_type": "code",
      "source": [
        "wer_google = wer.compute(predictions=[google], references=[references_1])\n",
        "wer_google"
      ],
      "metadata": {
        "colab": {
          "base_uri": "https://localhost:8080/"
        },
        "id": "Ltgnoih-ztMV",
        "outputId": "af949330-f667-4d4a-eabd-9047fac5c4c5"
      },
      "execution_count": 71,
      "outputs": [
        {
          "output_type": "execute_result",
          "data": {
            "text/plain": [
              "0.21323529411764705"
            ]
          },
          "metadata": {},
          "execution_count": 71
        }
      ]
    },
    {
      "cell_type": "code",
      "source": [
        "wer_transformer = wer.compute(predictions=[transformer], references=[references_1])\n",
        "wer_transformer"
      ],
      "metadata": {
        "colab": {
          "base_uri": "https://localhost:8080/"
        },
        "id": "e4_fF-KfzwNM",
        "outputId": "d4e670c0-8dbd-4ec0-ea74-058db09abbf3"
      },
      "execution_count": 72,
      "outputs": [
        {
          "output_type": "execute_result",
          "data": {
            "text/plain": [
              "0.3014705882352941"
            ]
          },
          "metadata": {},
          "execution_count": 72
        }
      ]
    },
    {
      "cell_type": "markdown",
      "source": [
        "Лучше всех справился OpenAI. Можно заметить, что google не распознал те самые \"ow\". В целом самое большое расхождение в начале и в конце, потому что это отрывок видео, и начало и конец как раз обрезаны так, что можно не все распознать."
      ],
      "metadata": {
        "id": "Y1nCo02nzzvT"
      }
    },
    {
      "cell_type": "markdown",
      "source": [
        "## WER Video 2"
      ],
      "metadata": {
        "id": "71gNj9hy739W"
      }
    },
    {
      "cell_type": "code",
      "source": [
        "references_2 = \"If you feel a gust of wind when exploring the new trial chambers, you might have stumbled upon a unique hostile mob, the Breeze. Despite its soothing name, the Breeze is quite a challenging addition to the game, and it's definitely not like any other mob you've fought before. It feels like it's angry, but it's also having fun at the same time, you know, like a cat, like playing around with its prey. The Breeze can jump in dizzying circles around its opponents and knock you back with powerful gusts of wind if you're not quick enough. It will hurt. When you meet the Breeze, the whole environment becomes more dangerous. Not to mention, you'll be fighting the Breeze in a room full of traps, and its bursts will not only send you flying, but can also trigger things like levers, buttons and more. So basically, anything can happen when you face a Breeze. It will hurt. Read more about how to try it out and send us your feedback on Minecraft.net.\""
      ],
      "metadata": {
        "id": "w2lL3KymC5hJ"
      },
      "execution_count": 46,
      "outputs": []
    },
    {
      "cell_type": "code",
      "source": [
        "elements = [',', '.', '?', '!']\n",
        "for element in elements:\n",
        "    references_2 = references_2.replace(element, '').lower()\n",
        "references_2"
      ],
      "metadata": {
        "colab": {
          "base_uri": "https://localhost:8080/",
          "height": 122
        },
        "id": "D4pxDaD1fb73",
        "outputId": "2bddb6b2-5b67-449c-cc80-b7e0b5d07997"
      },
      "execution_count": 47,
      "outputs": [
        {
          "output_type": "execute_result",
          "data": {
            "text/plain": [
              "\"if you feel a gust of wind when exploring the new trial chambers you might have stumbled upon a unique hostile mob the breeze despite its soothing name the breeze is quite a challenging addition to the game and it's definitely not like any other mob you've fought before it feels like it's angry but it's also having fun at the same time you know like a cat like playing around with its prey the breeze can jump in dizzying circles around its opponents and knock you back with powerful gusts of wind if you're not quick enough it will hurt when you meet the breeze the whole environment becomes more dangerous not to mention you'll be fighting the breeze in a room full of traps and its bursts will not only send you flying but can also trigger things like levers buttons and more so basically anything can happen when you face a breeze it will hurt read more about how to try it out and send us your feedback on minecraftnet\""
            ],
            "application/vnd.google.colaboratory.intrinsic+json": {
              "type": "string"
            }
          },
          "metadata": {},
          "execution_count": 47
        }
      ]
    },
    {
      "cell_type": "code",
      "source": [
        "for element in elements:\n",
        "    openai = openai.replace(element, '').lower()\n",
        "openai"
      ],
      "metadata": {
        "colab": {
          "base_uri": "https://localhost:8080/",
          "height": 122
        },
        "id": "68nB56EagX7v",
        "outputId": "a1e0135c-850b-48ec-eabd-ea907d4e05d4"
      },
      "execution_count": 48,
      "outputs": [
        {
          "output_type": "execute_result",
          "data": {
            "text/plain": [
              "\" if you feel a gust of wind when exploring the new trial chambers you might have stumbled upon a unique hostile mob the breeze despite its soothing name the breeze is quite a challenging addition to the game and it's definitely not like any other mob you've fought before it feels like it's angry but it's also having fun at the same time you know like a cat like playing around with its prey the breeze can jump in dizzying circles around its opponents and knock you back with powerful gusts of wind if you're not quick enough it will hurt when you meet the breeze the whole environment becomes more dangerous not to mention you'll be fighting the breeze in a room full of traps and its bursts will not only send you flying but can also trigger things like levers buttons and more so basically anything can happen when you face a breeze it will hurt read more about how to try it out and send us your feedback on minecraftnet\""
            ],
            "application/vnd.google.colaboratory.intrinsic+json": {
              "type": "string"
            }
          },
          "metadata": {},
          "execution_count": 48
        }
      ]
    },
    {
      "cell_type": "code",
      "source": [
        "for element in elements:\n",
        "    google = google.replace(element, '').lower()\n",
        "google"
      ],
      "metadata": {
        "colab": {
          "base_uri": "https://localhost:8080/",
          "height": 105
        },
        "id": "6R1-Wvh8gdOf",
        "outputId": "0c796616-7598-4576-a02b-088622490ac2"
      },
      "execution_count": 49,
      "outputs": [
        {
          "output_type": "execute_result",
          "data": {
            "text/plain": [
              "\"if you feel a gust of wind when exploring the new trial chambers you might have stumbled upon a unique hostile mob the breeze despite its soothing name the breeze is quite a challenging addition to the game and it's definitely not like any other mop you for before it feels like it's angry but it's also having fun at the same time you know like a cat like playing around with its prey the breeze can jump circles around its opponents and knock you back with powerful gusts of wings if you are not enough he will hurt when you meet the breeze the whole entire become more dangerous in a room full of traps and it's bursts will not only send you things like levers buttons so basically anything can happen when you face a breeze it will hurt read more about how to try it out and send us your feedback on minecraftnet\""
            ],
            "application/vnd.google.colaboratory.intrinsic+json": {
              "type": "string"
            }
          },
          "metadata": {},
          "execution_count": 49
        }
      ]
    },
    {
      "cell_type": "code",
      "source": [
        "transformer = transformer['text']\n",
        "for element in elements:\n",
        "    transformer = transformer.replace(element, '').lower()\n",
        "transformer"
      ],
      "metadata": {
        "colab": {
          "base_uri": "https://localhost:8080/",
          "height": 122
        },
        "id": "DWi28Klxgg-y",
        "outputId": "a21dec59-2b4d-40f1-e36d-0c7ce91a7f03"
      },
      "execution_count": 50,
      "outputs": [
        {
          "output_type": "execute_result",
          "data": {
            "text/plain": [
              "\"if you feel a gust of wind when exploring the new trial chambers you might have stumbled upon a unique hostile mob the breeze despite its soothing name the breeze is quite a challenging addition to the game and it's definitely not like any other mot you fought before it feels like its angry but it's also having found at the same time you know like a cat like playing around with its pray the breeze can jump in dizzyig circles around its opponents and knock you back wit powerful gusts of wingd if you are not quick enough it will hurt when you meet the breeze the whole invironment becomes more dangerous not to mention yu be fining the breezes in a room full of traps and its bursts will not only send you flying but can also trigger things like levers an badons and new wort so basically anything can happen when you face a breeze it will hurt read more about how to try it out and send us your feeton mine craft do nets\""
            ],
            "application/vnd.google.colaboratory.intrinsic+json": {
              "type": "string"
            }
          },
          "metadata": {},
          "execution_count": 50
        }
      ]
    },
    {
      "cell_type": "code",
      "source": [
        "wer_openai = wer.compute(predictions=[openai], references=[references_2])\n",
        "wer_openai"
      ],
      "metadata": {
        "id": "dOBof8FvA6aV",
        "colab": {
          "base_uri": "https://localhost:8080/"
        },
        "outputId": "d94d3e79-3998-4293-bd96-acff41d7ad99"
      },
      "execution_count": 51,
      "outputs": [
        {
          "output_type": "execute_result",
          "data": {
            "text/plain": [
              "0.0"
            ]
          },
          "metadata": {},
          "execution_count": 51
        }
      ]
    },
    {
      "cell_type": "code",
      "source": [
        "wer_google = wer.compute(predictions=[google], references=[references_2])\n",
        "wer_google"
      ],
      "metadata": {
        "id": "tIOwlgXRBbIH",
        "colab": {
          "base_uri": "https://localhost:8080/"
        },
        "outputId": "9d18fc65-71e3-4e84-9966-f963fea8d387"
      },
      "execution_count": 52,
      "outputs": [
        {
          "output_type": "execute_result",
          "data": {
            "text/plain": [
              "0.16184971098265896"
            ]
          },
          "metadata": {},
          "execution_count": 52
        }
      ]
    },
    {
      "cell_type": "code",
      "source": [
        "wer_transformer = wer.compute(predictions=[transformer], references=[references_2])\n",
        "wer_transformer"
      ],
      "metadata": {
        "id": "sgxsQaP_Chsa",
        "colab": {
          "base_uri": "https://localhost:8080/"
        },
        "outputId": "a2411cff-ecf0-4d07-e4e8-a8b130761e9b"
      },
      "execution_count": 53,
      "outputs": [
        {
          "output_type": "execute_result",
          "data": {
            "text/plain": [
              "0.1329479768786127"
            ]
          },
          "metadata": {},
          "execution_count": 53
        }
      ]
    },
    {
      "cell_type": "markdown",
      "source": [
        "Опять же OpenAI справился лучше всех. Здесь интересно посмотреть, что только transformer не распознал, что \"dot net\" должно быть \".net\" как часть сайта."
      ],
      "metadata": {
        "id": "OWz9H5cc2IM5"
      }
    },
    {
      "cell_type": "code",
      "source": [],
      "metadata": {
        "id": "aLhhGGvD4WM4"
      },
      "execution_count": null,
      "outputs": []
    }
  ]
}