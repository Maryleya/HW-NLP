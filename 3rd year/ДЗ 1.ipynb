{
 "cells": [
  {
   "cell_type": "markdown",
   "id": "7c1d102c",
   "metadata": {},
   "source": [
    "Мария Сухарева"
   ]
  },
  {
   "cell_type": "code",
   "execution_count": 1,
   "id": "936bfd07",
   "metadata": {},
   "outputs": [],
   "source": [
    "from sklearn.metrics import accuracy_score\n",
    "import re\n",
    "from collections import Counter\n",
    "import nltk\n",
    "from nltk.corpus import stopwords\n",
    "import requests\n",
    "from bs4 import BeautifulSoup\n",
    "import pymorphy2\n",
    "morph = pymorphy2.MorphAnalyzer()"
   ]
  },
  {
   "cell_type": "code",
   "execution_count": 2,
   "id": "ff338bd2",
   "metadata": {},
   "outputs": [],
   "source": [
    "from fake_useragent import UserAgent\n",
    "ua = UserAgent()\n",
    "headers = {'User-Agent': ua.random}"
   ]
  },
  {
   "cell_type": "code",
   "execution_count": 3,
   "id": "27fdb88e",
   "metadata": {},
   "outputs": [
    {
     "name": "stderr",
     "output_type": "stream",
     "text": [
      "[nltk_data] Downloading package punkt to\n",
      "[nltk_data]     C:\\Users\\Ирина\\AppData\\Roaming\\nltk_data...\n",
      "[nltk_data]   Package punkt is already up-to-date!\n",
      "[nltk_data] Downloading package stopwords to\n",
      "[nltk_data]     C:\\Users\\Ирина\\AppData\\Roaming\\nltk_data...\n",
      "[nltk_data]   Package stopwords is already up-to-date!\n"
     ]
    }
   ],
   "source": [
    "nltk.download(\"punkt\")\n",
    "nltk.download(\"stopwords\")\n",
    "russian_stopwords = stopwords.words(\"russian\")"
   ]
  },
  {
   "cell_type": "code",
   "execution_count": 4,
   "id": "27d928cc",
   "metadata": {},
   "outputs": [],
   "source": [
    "def convert(reviews): # преобразование отзывов в строки\n",
    "    review_converted = []\n",
    "    for review in reviews:\n",
    "        for i in review:\n",
    "            map(str, i)\n",
    "        review = ''.join(review)\n",
    "        review_converted.append(review)\n",
    "    return review_converted"
   ]
  },
  {
   "cell_type": "code",
   "execution_count": 5,
   "id": "451836fd",
   "metadata": {},
   "outputs": [],
   "source": [
    "def load_data(url):\n",
    "    r = requests.get(url, headers = headers) # отправка http запроса\n",
    "    soup = BeautifulSoup(r.text, 'html.parser')# создание html парсера\n",
    "    reviews_neg = soup.find_all(class_='review_neg')# сохранение только отрицательных отзывов\n",
    "    reviews_pos = soup.find_all(class_='review_pos')# сохранение только положительных отзывов\n",
    "    \n",
    "    reviews_neg_clean = []\n",
    "    for review in reviews_neg:# очистка от лишней html разметки\n",
    "        reviews_neg_clean.append(review.find_all(text=True))\n",
    "    reviews_neg_clean = convert(reviews_neg_clean)\n",
    "    \n",
    "    reviews_pos_clean = []\n",
    "    for review in reviews_pos:# очистка от лишней html разметки\n",
    "        reviews_pos_clean.append(review.find_all(text=True))\n",
    "    reviews_pos_clean = convert(reviews_pos_clean)\n",
    "    \n",
    "    return reviews_pos_clean, reviews_neg_clean"
   ]
  },
  {
   "cell_type": "code",
   "execution_count": 6,
   "id": "f2eae21f",
   "metadata": {},
   "outputs": [],
   "source": [
    "urles = ['https://www.booking.com/reviews/ru/hotel/vodagrai.ru.html?aid=356980&label=gog235jc-1DCA0owgFCHmhvdGVsLW5pa2l0aW4tbml6aG5peS1ub3Znb3JvZEghWANowgGIAQGYASG4ARfIARXYAQPoAQH4AQKIAgGoAgO4AuLBh5kGwAIB0gIkNTI2YjM4YmQtZjQ2Mi00MDM2LWFjZmMtMTdiMzJiZDZmYjZl2AIE4AIB&sid=9aa690d578643518fd0618cfdfd380bf', \n",
    "         'https://www.booking.com/reviews/ru/hotel/usadba-krugloe-ozero.ru.html?aid=356980&label=gog235jc-1DCA0owgFCHmhvdGVsLW5pa2l0aW4tbml6aG5peS1ub3Znb3JvZEghWANowgGIAQGYASG4ARfIARXYAQPoAQH4AQKIAgGoAgO4AuLBh5kGwAIB0gIkNTI2YjM4YmQtZjQ2Mi00MDM2LWFjZmMtMTdiMzJiZDZmYjZl2AIE4AIB&sid=9aa690d578643518fd0618cfdfd380bf', \n",
    "         'https://www.booking.com/reviews/ru/hotel/gostevoi-dom-assol.ru.html?aid=356980&label=gog235jc-1DCA0owgFCHmhvdGVsLW5pa2l0aW4tbml6aG5peS1ub3Znb3JvZEghWANowgGIAQGYASG4ARfIARXYAQPoAQH4AQKIAgGoAgO4AuLBh5kGwAIB0gIkNTI2YjM4YmQtZjQ2Mi00MDM2LWFjZmMtMTdiMzJiZDZmYjZl2AIE4AIB&sid=9aa690d578643518fd0618cfdfd380bf', \n",
    "         'https://www.booking.com/reviews/ru/hotel/art-gallery.ru.html?aid=356980&label=gog235jc-1DCA0owgFCHmhvdGVsLW5pa2l0aW4tbml6aG5peS1ub3Znb3JvZEghWANowgGIAQGYASG4ARfIARXYAQPoAQH4AQKIAgGoAgO4AuLBh5kGwAIB0gIkNTI2YjM4YmQtZjQ2Mi00MDM2LWFjZmMtMTdiMzJiZDZmYjZl2AIE4AIB&sid=9aa690d578643518fd0618cfdfd380bf', \n",
    "         'https://www.booking.com/reviews/ru/hotel/hotel-nikitin-nizhniy-novgorod.ru.html?aid=356980&label=gog235jc-1DCA0owgFCHmhvdGVsLW5pa2l0aW4tbml6aG5peS1ub3Znb3JvZEghWANowgGIAQGYASG4ARfIARXYAQPoAQH4AQKIAgGoAgO4AuLBh5kGwAIB0gIkNTI2YjM4YmQtZjQ2Mi00MDM2LWFjZmMtMTdiMzJiZDZmYjZl2AIE4AIB&sid=9aa690d578643518fd0618cfdfd380bf&r_lang=ru&customer_type=total&order=score_desc', \n",
    "         'https://www.booking.com/reviews/ru/hotel/briz-adler1.ru.html?aid=356980&label=gog235jc-1DCA0owgFCHmhvdGVsLW5pa2l0aW4tbml6aG5peS1ub3Znb3JvZEghWANowgGIAQGYASG4ARfIARXYAQPoAQH4AQKIAgGoAgO4AuLBh5kGwAIB0gIkNTI2YjM4YmQtZjQ2Mi00MDM2LWFjZmMtMTdiMzJiZDZmYjZl2AIE4AIB&sid=9aa690d578643518fd0618cfdfd380bf&r_lang=ru&customer_type=total&order=score_asc']\n",
    "# список с отелями\n",
    "\n",
    "loaded_data = []\n",
    "for url in urles:\n",
    "    loaded_data.append(load_data(url))"
   ]
  },
  {
   "cell_type": "code",
   "execution_count": 7,
   "id": "ce4ec908",
   "metadata": {},
   "outputs": [],
   "source": [
    "url_for_checking = 'https://www.booking.com/reviews/ru/hotel/matisov-domik.ru.html?aid=356980&label=gog235jc-1DCA0owgFCHmhvdGVsLW5pa2l0aW4tbml6aG5peS1ub3Znb3JvZEghWANowgGIAQGYASG4ARfIARXYAQPoAQH4AQKIAgGoAgO4AuLBh5kGwAIB0gIkNTI2YjM4YmQtZjQ2Mi00MDM2LWFjZmMtMTdiMzJiZDZmYjZl2AIE4AIB&sid=9aa690d578643518fd0618cfdfd380bf'\n",
    "# отзывы для проверки качества\n",
    "\n",
    "data_for_checking = load_data(url_for_checking)"
   ]
  },
  {
   "cell_type": "code",
   "execution_count": 8,
   "id": "3803f9ed",
   "metadata": {},
   "outputs": [],
   "source": [
    "# разделить все скаченные отзывы на два списка: положительные и отрицательные\n",
    "pos_reviews = []\n",
    "neg_reviews = []\n",
    "for i in loaded_data:\n",
    "    for j in range(0, len(i), 2):\n",
    "        pos_reviews.extend(i[j])\n",
    "        neg_reviews.extend(i[j+1])"
   ]
  },
  {
   "cell_type": "code",
   "execution_count": 9,
   "id": "f2176cf6",
   "metadata": {},
   "outputs": [],
   "source": [
    "def cleanhtml(review): # уберем \\n и прочее\n",
    "    cleaner = re.sub('\\r', ' ', review)\n",
    "    cleaner_new = re.sub('\\n\\n', '', cleaner)\n",
    "    cleaner_newnew = re.sub('\\n', '', cleaner_new)\n",
    "    return cleaner_newnew"
   ]
  },
  {
   "cell_type": "code",
   "execution_count": 10,
   "id": "51b49020",
   "metadata": {},
   "outputs": [],
   "source": [
    "def clean_reviews(reviews):\n",
    "    clean_reviews = []\n",
    "    for review in reviews:\n",
    "        clean_reviews.append(cleanhtml(review))\n",
    "    return clean_reviews"
   ]
  },
  {
   "cell_type": "code",
   "execution_count": 11,
   "id": "6f96e2c6",
   "metadata": {},
   "outputs": [],
   "source": [
    "clean_pos_reviews = clean_reviews(pos_reviews)\n",
    "clean_neg_reviews = clean_reviews(neg_reviews)"
   ]
  },
  {
   "cell_type": "code",
   "execution_count": 12,
   "id": "4bf6b7f4",
   "metadata": {},
   "outputs": [],
   "source": [
    "def normal_words(reviews, max_len=100): # список самых частотных слов; выбрала max len 100, потому что так как раз не входят во множества слова с частотностью 1-2\n",
    "    freqlist = Counter()\n",
    "    for text in reviews:\n",
    "        for word in nltk.word_tokenize(text.lower()):\n",
    "            if word.isalpha() and word not in russian_stopwords:\n",
    "                freqlist[morph.parse(word)[0].normal_form] += 1\n",
    "    return dict(freqlist.most_common(max_len))"
   ]
  },
  {
   "cell_type": "code",
   "execution_count": 13,
   "id": "402701b5",
   "metadata": {},
   "outputs": [],
   "source": [
    "pos_words = normal_words(clean_pos_reviews)\n",
    "neg_words = normal_words(clean_neg_reviews)"
   ]
  },
  {
   "cell_type": "code",
   "execution_count": 14,
   "id": "d02a3fba",
   "metadata": {},
   "outputs": [],
   "source": [
    "set_words = {'pos': set(pos_words.keys()), 'neg': set(neg_words.keys())}"
   ]
  },
  {
   "cell_type": "code",
   "execution_count": 15,
   "id": "cd4295ac",
   "metadata": {},
   "outputs": [],
   "source": [
    "def review_detect(set_words, review): # функция, определяющая положительный отзыв или отрицательный \n",
    "    counts = Counter()\n",
    "    for tone, words in set_words.items():\n",
    "        words = Counter(words)\n",
    "        for word in nltk.word_tokenize(review):\n",
    "            counts[tone] += int(words[word] > 0)\n",
    "    return counts.most_common()"
   ]
  },
  {
   "cell_type": "code",
   "execution_count": 16,
   "id": "04201d7f",
   "metadata": {},
   "outputs": [],
   "source": [
    "def new_check(clean_check):\n",
    "    new_check = []\n",
    "    for review in clean_check:\n",
    "        new_review = ''\n",
    "        for word in nltk.word_tokenize(review.lower()):\n",
    "            if word.isalpha():\n",
    "                new_review += morph.parse(word)[0].normal_form + ' '\n",
    "        new_check.append(new_review)\n",
    "    return new_check"
   ]
  },
  {
   "cell_type": "code",
   "execution_count": 17,
   "id": "87ceaab6",
   "metadata": {},
   "outputs": [],
   "source": [
    "pos_check_review = data_for_checking[0]\n",
    "neg_check_review = data_for_checking[1]\n",
    "\n",
    "new_pos_check = new_check(clean_reviews(pos_check_review))\n",
    "new_neg_check = new_check(clean_reviews(neg_check_review))\n",
    "\n",
    "data_check = {'pos': new_pos_check, 'neg': new_neg_check}"
   ]
  },
  {
   "cell_type": "code",
   "execution_count": 18,
   "id": "123a26fe",
   "metadata": {},
   "outputs": [],
   "source": [
    "tones = ['pos', 'neg']\n",
    "def test_review_detect(set_words):\n",
    "    results = []  # здесь результаты\n",
    "    gold_tone = []     # здесь исходный тон отзыва\n",
    "    for tone in tones:\n",
    "        for key, values in data_check.items():\n",
    "            for value in values:\n",
    "                predicted_tone = review_detect(set_words, value)[0][0]\n",
    "                results.append(predicted_tone)\n",
    "                gold_tone.append(key)\n",
    "    print(\"Accuracy: %.4f\" % accuracy_score(results, gold_tone))"
   ]
  },
  {
   "cell_type": "code",
   "execution_count": 19,
   "id": "466bad05",
   "metadata": {},
   "outputs": [
    {
     "name": "stdout",
     "output_type": "stream",
     "text": [
      "Accuracy: 0.7250\n"
     ]
    }
   ],
   "source": [
    "test_review_detect(set_words)"
   ]
  },
  {
   "cell_type": "markdown",
   "id": "44a8b88b",
   "metadata": {},
   "source": [
    "К сожалению, сначала accuracy была всего 0,5, то есть программа работала очень плохо, просто угадывала. Сначала я не убирала stopwords из созданных множеств частотных слов, и не чистила данные для проверки, и accuracy была 0,5. Потом я сделала это и получилось 0,7250. Я думаю, что, чтобы еще больше улучшить accuracy, можно построить tf-idf. Можно сделать словарь из частотных положительных и отрицательных слов, встречающихся в этих отзывах. Тогда каждый текст можно представить в виде вектора, где каждый признак показывает, присутствуют ли соответствующие слова в тексте."
   ]
  },
  {
   "cell_type": "code",
   "execution_count": null,
   "id": "33ad0a68",
   "metadata": {},
   "outputs": [],
   "source": []
  }
 ],
 "metadata": {
  "kernelspec": {
   "display_name": "Python 3 (ipykernel)",
   "language": "python",
   "name": "python3"
  },
  "language_info": {
   "codemirror_mode": {
    "name": "ipython",
    "version": 3
   },
   "file_extension": ".py",
   "mimetype": "text/x-python",
   "name": "python",
   "nbconvert_exporter": "python",
   "pygments_lexer": "ipython3",
   "version": "3.9.12"
  }
 },
 "nbformat": 4,
 "nbformat_minor": 5
}
